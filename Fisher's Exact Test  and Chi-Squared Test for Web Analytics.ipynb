{
 "cells": [
  {
   "cell_type": "code",
   "execution_count": 2,
   "metadata": {},
   "outputs": [],
   "source": [
    "# A/B testing test Statistics for discrete(binomial) & Continuous Metrics\n",
    "# Discrete Metrics: Click through rates, bounce rates, conversion rates\n",
    "\n",
    "#Import the libraries and modules\n",
    "\n",
    "import matplotlib.pyplot as plt\n",
    "import numpy as np\n",
    "import pandas as pd\n",
    "from scipy.special import binom\n",
    "from scipy.stats import chi2_contingency, mannwhitneyu, t, ttest_ind\n",
    "\n",
    "%matplotlib inline"
   ]
  },
  {
   "cell_type": "code",
   "execution_count": 8,
   "metadata": {},
   "outputs": [],
   "source": [
    "# Specifying the random events(i.e click, bounce etc.) for the 2 groups of users randomly shown different ad designs/layouts\n",
    "# Null hypothesis: Both ad designs are equivalently efficients i.e both variables/samples are independent\n",
    "\n",
    "np.random.seed(42)\n",
    "\n",
    "x = np.random.binomial(n=1, p=0.6, size= 18)\n",
    "y= np.random.binomial(n=1, p=0.4, size= 23)\n",
    "\n",
    "_, (a,c)=np.unique(x, return_counts=True)\n",
    "_, (b,d)=np.unique(y, return_counts=True)\n"
   ]
  },
  {
   "cell_type": "code",
   "execution_count": 9,
   "metadata": {},
   "outputs": [
    {
     "name": "stdout",
     "output_type": "stream",
     "text": [
      "-Observation:\n",
      "   -Version A: = [1 0 0 1 1 1 1 0 0 0 1 0 0 1 1 1 1 1]\n",
      "  -Version B: = [0 0 1 0 0 0 0 1 0 0 0 0 1 0 0 1 1 1 0 0 1 0 0]\n",
      "\n",
      " - Contingent Table:\n"
     ]
    },
    {
     "data": {
      "text/html": [
       "<div>\n",
       "<style scoped>\n",
       "    .dataframe tbody tr th:only-of-type {\n",
       "        vertical-align: middle;\n",
       "    }\n",
       "\n",
       "    .dataframe tbody tr th {\n",
       "        vertical-align: top;\n",
       "    }\n",
       "\n",
       "    .dataframe thead th {\n",
       "        text-align: right;\n",
       "    }\n",
       "</style>\n",
       "<table border=\"1\" class=\"dataframe\">\n",
       "  <thead>\n",
       "    <tr style=\"text-align: right;\">\n",
       "      <th></th>\n",
       "      <th>A</th>\n",
       "      <th>B</th>\n",
       "    </tr>\n",
       "  </thead>\n",
       "  <tbody>\n",
       "    <tr>\n",
       "      <th>click</th>\n",
       "      <td>7</td>\n",
       "      <td>16</td>\n",
       "    </tr>\n",
       "    <tr>\n",
       "      <th>no click</th>\n",
       "      <td>11</td>\n",
       "      <td>7</td>\n",
       "    </tr>\n",
       "  </tbody>\n",
       "</table>\n",
       "</div>"
      ],
      "text/plain": [
       "           A   B\n",
       "click      7  16\n",
       "no click  11   7"
      ]
     },
     "metadata": {},
     "output_type": "display_data"
    }
   ],
   "source": [
    "#Defining the Dataframe\n",
    "\n",
    "df=pd.DataFrame(data=[[a,b],[c,d]],\n",
    "                index=['click','no click'],\n",
    "                columns=['A','B'])\n",
    "\n",
    "m=df.values\n",
    "\n",
    "print('-Observation:')\n",
    "print(f\"   -Version A: = {x}\")\n",
    "print(f\"  -Version B: = {y}\")\n",
    "print(\"\")\n",
    "print(\" - Contingent Table:\")\n",
    "display(df)\n"
   ]
  },
  {
   "cell_type": "code",
   "execution_count": 6,
   "metadata": {},
   "outputs": [],
   "source": [
    "#Fisher's Exact Test for Discrete metric for the Web ad Analytics\n",
    "\n",
    "def hypergeom(k, K, n, N):\n",
    "    \"\"\"Probability mass funciton of the hypergeometric distribution.\"\"\"\n",
    "    return binom(K, k) * binom(N-K, n-k) / binom(N, n)\n",
    "\n",
    "def fisher_prob(m):\n",
    "    \"\"\"Probability of a given observed contingency table according to Fisher's exact test.\"\"\"\n",
    "    ((a, b), (c ,d)) = m\n",
    "    k = a\n",
    "    K = a+b\n",
    "    n = a+c\n",
    "    N = a+b+c+d\n",
    "    return hypergeom(k, K, n, N)"
   ]
  },
  {
   "cell_type": "code",
   "execution_count": 7,
   "metadata": {},
   "outputs": [],
   "source": [
    "def fisher_probs_histogram(m):\n",
    "    \n",
    "    \"\"\"Computes prob mass function histogram accroding to Fisher's exact test.\"\"\"\n",
    "    neg_val = -min(m[0,0], m[1,1])\n",
    "    pos_val = min(m[1,0], m[1,0])\n",
    "    probs = []\n",
    "    for k in range(neg_val, pos_val+1):\n",
    "        m1 = m + np.array([[1, -1], [-1, 1]]) * k\n",
    "        probs.append(fisher_prob(m1))\n",
    "    return probs"
   ]
  },
  {
   "cell_type": "code",
   "execution_count": 10,
   "metadata": {},
   "outputs": [
    {
     "name": "stdout",
     "output_type": "stream",
     "text": [
      "- Fisher's exact test: p-val = 6.4%\n"
     ]
    },
    {
     "data": {
      "image/png": "[encoded data removed]",
      "text/plain": [
       "<Figure size 432x216 with 1 Axes>"
      ]
     },
     "metadata": {
      "needs_background": "light"
     },
     "output_type": "display_data"
    }
   ],
   "source": [
    "bars_h = np.array(fisher_probs_histogram(m))\n",
    "\n",
    "f, ax = plt.subplots(figsize=(6, 3))\n",
    "ii = np.arange(len(bars_h))\n",
    "ax.bar(ii, bars_h)\n",
    "idxs = bars_h <= fisher_prob(m)\n",
    "ax.bar(ii[idxs], bars_h[idxs], color='r')\n",
    "ax.set_ylabel(\"prob density\")\n",
    "p_val = bars_h[idxs].sum()\n",
    "neg_val = -min(m[0,0], m[1,1])\n",
    "pos_val = min(m[1,0], m[1,0])\n",
    "ax.bar(ii[-neg_val], bars_h[-neg_val], color='orange')\n",
    "\n",
    "ax.set_xticks(ii)\n",
    "ax.set_xticklabels(np.arange(neg_val, pos_val+1))\n",
    "f.tight_layout()\n",
    "print(f\"- Fisher's exact test: p-val = {100*p_val:.1f}%\")"
   ]
  },
  {
   "cell_type": "code",
   "execution_count": 11,
   "metadata": {},
   "outputs": [
    {
     "name": "stdout",
     "output_type": "stream",
     "text": [
      "- Pearson's chi-squared t-test:\n",
      "   - χ2 value: 3.858\n",
      "   - p-value: 5.0%\n"
     ]
    }
   ],
   "source": [
    "#Although Fisher's Exact test has the important advantage of computing exact p-values. If however we have a large sample size, \n",
    "#..., it would be computationally inefficient so, we use Pearson's Chi-squared test to compute an approximate p-value\n",
    "\n",
    "chi2_val,p_val= chi2_contingency(m, correction= False)[:2]\n",
    "\n",
    "print(\"- Pearson's chi-squared t-test:\")\n",
    "print(f\"   - χ2 value: {chi2_val:.3f}\")\n",
    "print(f\"   - p-value: {p_val*100:.1f}%\")"
   ]
  },
  {
   "cell_type": "code",
   "execution_count": null,
   "metadata": {},
   "outputs": [],
   "source": [
    "#Chi-squared test can also be used for non-normal observations if sample size is large enough, thanks to Central Limit Theorem\n",
    "\n",
    "#Chi-square test of independence of variables in a contingency table.\n",
    "\n",
    "#This function computes the chi-square statistic and p-value for the hypothesis test of independence of \n",
    "#the observed frequencies in the contingency table 1 observed. \n",
    "#The expected frequencies are computed based on the marginal sums under the assumption of independence;"
   ]
  }
 ],
 "metadata": {
  "kernelspec": {
   "display_name": "Python 3",
   "language": "python",
   "name": "python3"
  },
  "language_info": {
   "codemirror_mode": {
    "name": "ipython",
    "version": 3
   },
   "file_extension": ".py",
   "mimetype": "text/x-python",
   "name": "python",
   "nbconvert_exporter": "python",
   "pygments_lexer": "ipython3",
   "version": "3.8.5"
  }
 },
 "nbformat": 4,
 "nbformat_minor": 4
}
